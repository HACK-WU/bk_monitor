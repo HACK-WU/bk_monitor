{
 "cells": [
  {
   "cell_type": "code",
   "id": "initial_id",
   "metadata": {
    "collapsed": true,
    "ExecuteTime": {
     "end_time": "2024-12-04T11:05:17.379883Z",
     "start_time": "2024-12-04T11:05:11.974801Z"
    }
   },
   "source": [
    "import sys\n",
    "\n",
    "sys.path.append('D:\\PythonProjects\\\\bk-monitor\\\\venv2\\share\\scripts')\n",
    "import hello"
   ],
   "outputs": [
    {
     "name": "stderr",
     "output_type": "stream",
     "text": [
      "当前运行环境缺少部分需要的环境变量，可能导致项目运行报错，请确认以下环境变量已经配置并赋值: BK_PAAS2_URL\n",
      "注意，当前版本为社区版环境，请确认 BKPAAS_MAJOR_VERSION 已经配置并正确赋值\n"
     ]
    }
   ],
   "execution_count": 1
  },
  {
   "metadata": {
    "ExecuteTime": {
     "end_time": "2024-12-04T11:05:24.981669Z",
     "start_time": "2024-12-04T11:05:24.968673Z"
    }
   },
   "cell_type": "code",
   "source": [
    "from core.drf_resource import resource\n",
    "from bkmonitor.models.base import Shield\n",
    "from mock import MagicMock\n",
    "import copy\n",
    "\n",
    "new_shield = {\n",
    "    \"category\": \"scope\",\n",
    "    \"begin_time\": \"2024-12-10 00:00:00\",\n",
    "    \"end_time\": \"2024-12-19 23:59:59\",\n",
    "    \"cycle_config\": {\n",
    "        \"begin_time\": \"\",\n",
    "        \"end_time\": \"\",\n",
    "        \"day_list\": [],\n",
    "        \"week_list\": [],\n",
    "        \"type\": 1\n",
    "    },\n",
    "    \"shield_notice\": False,\n",
    "    \"notice_config\": {},\n",
    "    \"description\": \"label 标签第三次测试\",\n",
    "    \"dimension_config\": {\n",
    "        \"scope_type\": \"instance\",\n",
    "        \"target\": [\n",
    "            69\n",
    "        ]\n",
    "    },\n",
    "    \"bk_biz_id\": 2\n",
    "}\n",
    "\n",
    "\n",
    "def create_shield(label):\n",
    "    Shield.objects.all().delete()\n",
    "    shield = copy.deepcopy(new_shield)\n",
    "    shield[\"label\"] = label\n",
    "    resource.shield.add_shield(shield)\n",
    "    model = Shield.objects.get(label=label)\n",
    "    return model"
   ],
   "id": "77eba359162e370d",
   "outputs": [],
   "execution_count": 3
  },
  {
   "metadata": {
    "ExecuteTime": {
     "end_time": "2024-12-04T09:56:07.301991Z",
     "start_time": "2024-12-04T09:56:07.207993Z"
    }
   },
   "cell_type": "code",
   "source": [
    "# 测试添加屏蔽\n",
    "def test_add_shield_resource():\n",
    "    Shield.objects.all().delete()\n",
    "    shield = copy.deepcopy(new_shield)\n",
    "\n",
    "    label = \"测试test_add_shield_resource\"\n",
    "    shield[\"label\"] = label\n",
    "    resource.shield.add_shield(shield)\n",
    "\n",
    "    model = Shield.objects.get(label=label)\n",
    "    assert model.label == label\n",
    "\n",
    "\n",
    "test_add_shield_resource()"
   ],
   "id": "c5c8dfae3f29049b",
   "outputs": [],
   "execution_count": 3
  },
  {
   "metadata": {
    "ExecuteTime": {
     "end_time": "2024-12-04T09:56:07.317991Z",
     "start_time": "2024-12-04T09:56:07.302991Z"
    }
   },
   "cell_type": "code",
   "source": [
    "new_shield_2 = {\n",
    "    \"bk_biz_id\": 2,\n",
    "    \"category\": \"alert\",\n",
    "    \"begin_time\": \"2024-09-03 17:31:48\",\n",
    "    \"end_time\": \"2024-09-03 18:01:48\",\n",
    "    \"dimension_config\": {\n",
    "        \"alert_ids\": [\n",
    "            \"111\", \"100\"\n",
    "        ],\n",
    "        # 编辑了维度后， 则将告警对应的剩下的维度的key放进来。 作为字典， key是告警id， value是剩下的维度key列表\n",
    "        \"dimensions\": {\"111\": [\"xxx\", \"yyy\"], \"100\": [\"xxx\", \"yyy\"]},\n",
    "    },\n",
    "    \"shield_notice\": False,\n",
    "    \"description\": \"test\",\n",
    "    \"cycle_config\": {\n",
    "        \"begin_time\": \"\",\n",
    "        \"type\": 1,\n",
    "        \"day_list\": [],\n",
    "        \"week_list\": [],\n",
    "        \"end_time\": \"\"\n",
    "    }\n",
    "}\n",
    "\n",
    "\n",
    "# 测试批量添加屏蔽\n",
    "def test_bulk_add_shield_resource():\n",
    "    label = \"测试test_bulk_add_shield_resource\"\n",
    "    new_shield_2[\"label\"] = label\n",
    "    instance = resource.shield.bulk_add_alert_shield\n",
    "    instance.handle_alerts = MagicMock(return_value=[{\"111\": [\"xxx\", \"yyy\"], \"100\": [\"xxx\", \"yyy\"]}])\n",
    "    # 创建告警屏蔽\n",
    "    instance.request(new_shield_2)\n",
    "    model = Shield.objects.get(label=label)\n",
    "    assert model.label == label\n",
    "\n",
    "\n",
    "test_bulk_add_shield_resource()"
   ],
   "id": "5be1e30553b15535",
   "outputs": [],
   "execution_count": 4
  },
  {
   "metadata": {
    "ExecuteTime": {
     "end_time": "2024-12-04T11:05:33.809402Z",
     "start_time": "2024-12-04T11:05:33.656984Z"
    }
   },
   "cell_type": "code",
   "source": [
    "# 测试修改屏蔽\n",
    "def test_edit_shield_resource():\n",
    "    Shield.objects.all().delete()\n",
    "    label = \"测试test_edit_shield_resource\"\n",
    "\n",
    "    shield = copy.deepcopy(new_shield)\n",
    "\n",
    "    shield[\"label\"] = label\n",
    "    resource.shield.add_shield(shield)\n",
    "    model = Shield.objects.get(label=label)\n",
    "    print(model.label, model.id)\n",
    "\n",
    "    shield[\"label\"] = \"测试test_edit_shield_resource_2\"\n",
    "    shield[\"id\"] = model.id\n",
    "    resource.shield.edit_shield(shield)\n",
    "    model = Shield.objects.get(id=model.id)\n",
    "    print(model.label)\n",
    "    assert model.label == \"测试test_edit_shield_resource_2\"\n",
    "\n",
    "    del shield[\"label\"]\n",
    "    resource.shield.edit_shield(shield)\n",
    "    model = Shield.objects.get(id=model.id)\n",
    "\n",
    "    assert model.label == \"测试test_edit_shield_resource_2\"\n",
    "    \n",
    "    shield[\"label\"]=\"\"\n",
    "    resource.shield.edit_shield(shield)\n",
    "    model = Shield.objects.get(id=model.id)\n",
    "\n",
    "    assert model.label == \"\"\n",
    "\n",
    "\n",
    "test_edit_shield_resource()\n",
    "\n"
   ],
   "id": "30d4987990b2382b",
   "outputs": [
    {
     "name": "stdout",
     "output_type": "stream",
     "text": [
      "测试test_edit_shield_resource 360\n",
      "测试test_edit_shield_resource_2\n"
     ]
    }
   ],
   "execution_count": 4
  },
  {
   "metadata": {},
   "cell_type": "markdown",
   "source": "",
   "id": "cd29428ce3236eee"
  },
  {
   "metadata": {
    "ExecuteTime": {
     "end_time": "2024-12-04T09:56:07.459358Z",
     "start_time": "2024-12-04T09:56:07.352365Z"
    }
   },
   "cell_type": "code",
   "source": [
    "# 测试屏蔽详情\n",
    "def test_shield_detail():\n",
    "    label = \"测试test_shield_detail\"\n",
    "    model = create_shield(label)\n",
    "\n",
    "    result = resource.shield.shield_detail({\"id\": model.id, \"bk_biz_id\": model.bk_biz_id})\n",
    "    assert result[\"label\"] == label\n",
    "\n",
    "\n",
    "test_shield_detail()"
   ],
   "id": "ec426d66e02a2b69",
   "outputs": [],
   "execution_count": 6
  },
  {
   "metadata": {
    "ExecuteTime": {
     "end_time": "2024-12-04T09:56:07.522150Z",
     "start_time": "2024-12-04T09:56:07.461358Z"
    }
   },
   "cell_type": "code",
   "source": [
    "# 测试前端屏蔽列表和后端屏蔽列表\n",
    "def test_shield_list_and_frontend_shield_list():\n",
    "    Shield.objects.all().delete()\n",
    "\n",
    "    label_list = [\n",
    "        \"西游记\",\n",
    "        \"东游记\",\n",
    "        \"三国演义\",\n",
    "        \"封神演义\",\n",
    "        \"水浒传\",\n",
    "        \"红楼梦\",\n",
    "        \"封神榜\",\n",
    "        \"搜神记\",\n",
    "        \"大话西游\",\n",
    "    ]\n",
    "\n",
    "    for lable in label_list:\n",
    "        new_shield[\"label\"] = lable\n",
    "        resource.shield.add_shield(new_shield)\n",
    "\n",
    "    # 精确查询测试\n",
    "    params = {\n",
    "        \"page\": 1,\n",
    "        \"page_size\": 10,\n",
    "        \"time_range\": \"\",\n",
    "        \"categories\": [\n",
    "            \"alert\",\n",
    "            \"scope\",\n",
    "            \"strategy\",\n",
    "            \"dimension\"\n",
    "        ],\n",
    "        \"search\": \"\",\n",
    "        \"conditions\": [\n",
    "            {\n",
    "                \"key\": \"label\",\n",
    "                \"value\": \"大话西游\"\n",
    "            },\n",
    "        ],\n",
    "        \"is_active\": True,\n",
    "        \"bk_biz_id\": 2\n",
    "    }\n",
    "\n",
    "    # 测试后端精确查询\n",
    "    result = resource.shield.shield_list(**params)\n",
    "    assert result[\"shield_list\"][0][\"label\"] == \"大话西游\"\n",
    "\n",
    "    # 测试前端模糊查询\n",
    "    params[\"conditions\"] = []\n",
    "    params[\"search\"] = \"游记\"\n",
    "    result = resource.shield.frontend_shield_list(**params)\n",
    "\n",
    "    expect_value = [\"西游记\", \"东游记\"]\n",
    "    expect_value.sort()\n",
    "    actual_value = [item[\"label\"] for item in result[\"shield_list\"]]\n",
    "    actual_value.sort()\n",
    "    assert expect_value == actual_value\n",
    "\n",
    "\n",
    "test_shield_list_and_frontend_shield_list()"
   ],
   "id": "77daf3c286380ef9",
   "outputs": [],
   "execution_count": 7
  },
  {
   "metadata": {
    "ExecuteTime": {
     "end_time": "2024-12-04T09:56:07.554183Z",
     "start_time": "2024-12-04T09:56:07.524148Z"
    }
   },
   "cell_type": "code",
   "source": [
    "# 测试前端屏蔽详情\n",
    "def test_frontend_shield_detail():\n",
    "    label = \"测试test_frontend_shield_detail\"\n",
    "    model = create_shield(label)\n",
    "    result = resource.shield.frontend_shield_detail({\"id\": model.id, \"bk_biz_id\": model.bk_biz_id})\n",
    "    assert result[\"label\"] == label\n",
    "\n",
    "\n",
    "test_frontend_shield_detail()\n"
   ],
   "id": "a71fa243769acca8",
   "outputs": [],
   "execution_count": 8
  },
  {
   "metadata": {
    "ExecuteTime": {
     "end_time": "2024-12-04T09:56:07.570218Z",
     "start_time": "2024-12-04T09:56:07.556149Z"
    }
   },
   "cell_type": "code",
   "source": [
    "# 测试前端克隆屏蔽\n",
    "def test_fronend_clone_info():\n",
    "    label = \"测试test_fronend_clone_info\"\n",
    "    model = create_shield(label)\n",
    "    result = resource.shield.frontend_clone_info({\"id\": model.id, \"bk_biz_id\": model.bk_biz_id})\n",
    "    assert result[\"label\"] == label\n",
    "\n",
    "\n",
    "test_fronend_clone_info()"
   ],
   "id": "7a6e3fbc9a76bcce",
   "outputs": [],
   "execution_count": 9
  }
 ],
 "metadata": {
  "kernelspec": {
   "display_name": "Python 3",
   "language": "python",
   "name": "python3"
  },
  "language_info": {
   "codemirror_mode": {
    "name": "ipython",
    "version": 2
   },
   "file_extension": ".py",
   "mimetype": "text/x-python",
   "name": "python",
   "nbconvert_exporter": "python",
   "pygments_lexer": "ipython2",
   "version": "2.7.6"
  }
 },
 "nbformat": 4,
 "nbformat_minor": 5
}
