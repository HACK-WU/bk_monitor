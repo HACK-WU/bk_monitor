{
 "cells": [
  {
   "cell_type": "code",
   "id": "initial_id",
   "metadata": {
    "collapsed": true,
    "ExecuteTime": {
     "end_time": "2025-01-03T06:41:28.962072Z",
     "start_time": "2025-01-03T06:41:24.480376Z"
    }
   },
   "source": [
    "import sys\n",
    "\n",
    "sys.path.append('D:\\PythonProjects\\\\bk-monitor\\\\venv2\\share\\scripts')\n",
    "import hello"
   ],
   "outputs": [
    {
     "name": "stderr",
     "output_type": "stream",
     "text": [
      "当前运行环境缺少部分需要的环境变量，可能导致项目运行报错，请确认以下环境变量已经配置并赋值: BK_PAAS2_URL\n",
      "注意，当前版本为社区版环境，请确认 BKPAAS_MAJOR_VERSION 已经配置并正确赋值\n"
     ]
    }
   ],
   "execution_count": 1
  },
  {
   "metadata": {
    "ExecuteTime": {
     "end_time": "2025-01-03T06:42:48.742093Z",
     "start_time": "2025-01-03T06:42:48.719998Z"
    }
   },
   "cell_type": "code",
   "source": [
    "from mock import patch, MagicMock\n",
    "from pprint import pprint\n",
    "from bkmonitor.documents import alert\n",
    "from bkmonitor import documents\n",
    "from itertools import cycle\n",
    "from bkmonitor import models\n",
    "from copy import deepcopy\n",
    "\n",
    "\n",
    "def func():\n",
    "    dimensions = [\"name\", \"age\", \"sex\"]\n",
    "    dic = {\n",
    "        \"name\": \"张三\",\n",
    "        \"age\": 18,\n",
    "        \"sex\": \"male\"\n",
    "    }\n",
    "\n",
    "    class Inner:\n",
    "        def __init__(self, key, value):\n",
    "            self.dic = {\n",
    "                \"key\": key,\n",
    "                \"value\": dic[key],\n",
    "                \"dispaly_key\": key,\n",
    "                \"display_value\": dic[key]\n",
    "            }\n",
    "\n",
    "        def to_dict(self):\n",
    "            return self.dic\n",
    "\n",
    "        def __getitem__(self, key):\n",
    "            return self.dic[key]\n",
    "\n",
    "        def get(self, key, default):\n",
    "            return self.dic.get(key, default)\n",
    "\n",
    "    for key in cycle(dimensions):\n",
    "        yield Inner(key, dic[key])\n",
    "\n",
    "\n",
    "class Inner:\n",
    "    id = 1\n",
    "\n",
    "\n",
    "inner = Inner()\n",
    "\n",
    "\n",
    "def create(*args, **kwargs):\n",
    "    for key, value in kwargs.items():\n",
    "        setattr(inner, key, value)\n",
    "    return inner\n",
    "\n",
    "\n",
    "alert_doc = alert.AlertDocument = documents.AlertDocument = MagicMock(name=\"AlertDocument\")\n",
    "mock_alert = MagicMock(name=\"alert\")\n",
    "mock_alert.id = 1\n",
    "generator = func()\n",
    "mock_alert.dimensions = [next(generator), next(generator), next(generator)]\n",
    "alert_doc.get = MagicMock(return_value=mock_alert)\n",
    "\n",
    "models.Shield = MagicMock(name=\"Shield\")\n",
    "models.Shield.objects = MagicMock(name=\"Shield.objects\")\n",
    "models.Shield.objects.create = MagicMock(name=\"Shield.objects.create\", side_effect=create)\n",
    "\n",
    "from weixin.event.resources import QuickShield\n",
    "\n",
    "QuickShield.has_biz_permission = MagicMock(return_value=True)\n",
    "\n"
   ],
   "id": "c3143773c0a50582",
   "outputs": [],
   "execution_count": 15
  },
  {
   "metadata": {
    "ExecuteTime": {
     "end_time": "2025-01-03T06:45:35.539081Z",
     "start_time": "2025-01-03T06:45:35.521097Z"
    }
   },
   "cell_type": "code",
   "source": [
    "# 测试删除“sex” 维度\n",
    "params = {\n",
    "    \"type\": \"event\",\n",
    "    \"event_id\": 1,\n",
    "    \"bk_biz_id\": 2,\n",
    "    \"end_time\": \"2023-10-05 14:30:00\",\n",
    "    \"description\": \"测试\",\n",
    "    # 没有sex维度，意思就是删除sex维度\n",
    "    \"dimension_keys\": [\"name\", \"age\"],\n",
    "    \"category\": \"event\",\n",
    "}\n",
    "\n",
    "QuickShield().request(params)\n",
    "pprint(inner.dimension_config[\"_dimensions\"])"
   ],
   "id": "3d522f3d7bcda77",
   "outputs": [
    {
     "name": "stdout",
     "output_type": "stream",
     "text": [
      "'name(张三) - age(18)'\n"
     ]
    }
   ],
   "execution_count": 20
  },
  {
   "metadata": {
    "ExecuteTime": {
     "end_time": "2025-01-03T06:45:37.472244Z",
     "start_time": "2025-01-03T06:45:37.464215Z"
    }
   },
   "cell_type": "code",
   "source": [
    "# 测试没有传递dimension_keys参数的情况\n",
    "new_params = deepcopy(params)\n",
    "new_params.pop(\"dimension_keys\")\n",
    "QuickShield().request(new_params)\n",
    "pprint(inner.dimension_config[\"_dimensions\"])"
   ],
   "id": "6d3fb4fadda30337",
   "outputs": [
    {
     "name": "stdout",
     "output_type": "stream",
     "text": [
      "'name(张三) - age(18) - sex(male)'\n"
     ]
    }
   ],
   "execution_count": 21
  },
  {
   "metadata": {
    "ExecuteTime": {
     "end_time": "2025-01-03T06:45:40.711166Z",
     "start_time": "2025-01-03T06:45:40.690161Z"
    }
   },
   "cell_type": "code",
   "source": [
    "# 测试dimension_keys参数为空列表的情况\n",
    "new_params = deepcopy(params)\n",
    "new_params[\"dimension_keys\"] = []\n",
    "QuickShield().request(new_params)\n",
    "pprint(inner.dimension_config[\"_dimensions\"])"
   ],
   "id": "e2947033eeafcb00",
   "outputs": [
    {
     "name": "stdout",
     "output_type": "stream",
     "text": [
      "''\n"
     ]
    }
   ],
   "execution_count": 22
  }
 ],
 "metadata": {
  "kernelspec": {
   "display_name": "Python 3",
   "language": "python",
   "name": "python3"
  },
  "language_info": {
   "codemirror_mode": {
    "name": "ipython",
    "version": 2
   },
   "file_extension": ".py",
   "mimetype": "text/x-python",
   "name": "python",
   "nbconvert_exporter": "python",
   "pygments_lexer": "ipython2",
   "version": "2.7.6"
  }
 },
 "nbformat": 4,
 "nbformat_minor": 5
}
