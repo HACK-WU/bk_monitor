{
 "cells": [
  {
   "cell_type": "code",
   "id": "initial_id",
   "metadata": {
    "collapsed": true
   },
   "source": [
    "import sys\n",
    "\n",
    "sys.path.append('D:\\PythonProjects\\\\bk-monitor\\\\venv2\\share\\scripts')\n",
    "import hello"
   ],
   "outputs": [],
   "execution_count": null
  },
  {
   "metadata": {
    "ExecuteTime": {
     "end_time": "2024-10-16T07:50:09.128910Z",
     "start_time": "2024-10-16T07:50:09.115882Z"
    }
   },
   "cell_type": "code",
   "source": [
    "from bkmonitor.models.metric_list_cache import MetricListCache\n",
    "\n",
    "groups = [\n",
    "    {\"data_source_label\", \"result_table_id\"},\n",
    "    {\"data_source_label\", \"result_table_id\", \"bk_biz_id\"},\n",
    "    {\"data_source_label\", \"result_table_id\", \"bk_biz_id\", \"data_type_label\"},\n",
    "    {\"data_source_label\", \"result_table_id\", \"data_type_label\"},\n",
    "]\n",
    "# 用于保存需要查询的参数\n",
    "param_dics_list = []\n",
    "\n",
    "for item in groups:\n",
    "    result = MetricListCache.objects.all().values(*item).distinct()[0:10]\n",
    "    param_dics_list.append(list(result))"
   ],
   "id": "3b9c363dc24523fc",
   "outputs": [],
   "execution_count": 97
  },
  {
   "metadata": {},
   "cell_type": "markdown",
   "source": "",
   "id": "2dd754910c29e21b"
  },
  {
   "metadata": {},
   "cell_type": "code",
   "source": [
    "def query_metric_cache_loop(pre_field_set):\n",
    "    result = []\n",
    "    for param_dics in param_dics_list:\n",
    "        for metric_info in param_dics:\n",
    "            query_set = MetricListCache.objects.filter(**metric_info).order_by(\"id\").values(*pre_field_set)\n",
    "            for item in query_set:\n",
    "                result.append(tuple(item[field] for field in pre_field_set))\n",
    "    result.sort()\n",
    "    return result\n",
    "\n",
    "# pre_field_set = {\"id\",\n",
    "#                  \"result_table_id\",\n",
    "#                  \"data_source_label\",\n",
    "#                  \"metric_field\",\n",
    "#                  }\n",
    "# \n",
    "# query_metric_cache_loop(pre_field_set)\n",
    "\n",
    "\n"
   ],
   "id": "e3cf7415a647a18b",
   "outputs": [],
   "execution_count": null
  },
  {
   "metadata": {},
   "cell_type": "code",
   "source": [
    "from functools import reduce\n",
    "from itertools import count\n",
    "from collections import defaultdict\n",
    "import operator\n",
    "from django.db.models import Q as DQ\n",
    "\n",
    "\n",
    "def query_metric_cache_batch(pre_field_set):\n",
    "    # 字段与目标值的映射\n",
    "    field_values_map = defaultdict(list)\n",
    "    # 过滤条件分组字典，过滤字段相同的为一个组\n",
    "    filter_conditions_group = defaultdict(list)\n",
    "\n",
    "    field_set = pre_field_set.copy()\n",
    "\n",
    "    for param_dics in param_dics_list:\n",
    "        for metric_info in param_dics:\n",
    "            for key, value in metric_info.items():\n",
    "                field_values_map[key].append(value)\n",
    "\n",
    "            # 对过滤字段进行分组，并保存与当前metric_info相关的信息\n",
    "            filter_conditions_group[tuple(sorted(metric_info.keys()))].append((metric_info))\n",
    "            # 更新查询需要显示的字段集合\n",
    "            field_set.update(set(metric_info.keys()))\n",
    "\n",
    "    # 生成过滤条件\n",
    "    filter_conditions = reduce(operator.or_, [DQ(**{key + \"__in\": field_values_map[key] for key in key_tuple})\n",
    "                                              for key_tuple in filter_conditions_group.keys()])\n",
    "    # print(filter_conditions)\n",
    "    # 批量获取所有需要查询的指标\n",
    "    metric_data_set = MetricListCache.objects.filter(filter_conditions).order_by(\"id\").values(*field_set)\n",
    "    # print(\"批量查询，数据量：\" + str(len(metric_data_set)))\n",
    "    result = []\n",
    "\n",
    "    # print(filter_conditions_group)\n",
    "\n",
    "    for key_tuple, met_info_recommends in filter_conditions_group.items():\n",
    "        # old = len(result)\n",
    "        metric_dic = defaultdict(list)\n",
    "\n",
    "        # 根据key_tuple组成新的key，用于查询\n",
    "        for data in metric_data_set:\n",
    "            metric_dic[tuple(data[key] for key in key_tuple)].append(data)\n",
    "\n",
    "        length = 0\n",
    "        for item in metric_dic.values():\n",
    "            length += len(item)\n",
    "\n",
    "        # print(len(result), \"当前数据量：\", length)\n",
    "        # k = count()\n",
    "        for metric_info in met_info_recommends:\n",
    "            metric_data = metric_dic.get(tuple(metric_info[key] for key in key_tuple))\n",
    "\n",
    "            if not metric_data:\n",
    "                # 没有获取到目标数据，跳过\n",
    "                continue\n",
    "            for item in metric_data:\n",
    "                # next(k)\n",
    "                metric = MetricListCache(**item)\n",
    "                result.append(tuple(getattr(metric, field) for field in pre_field_set))\n",
    "        # print(len(result) - old, key_tuple, next(k))\n",
    "\n",
    "    result.sort()\n",
    "\n",
    "    return result\n",
    "\n",
    "# pre_field_set = {\"id\",\n",
    "#                  \"result_table_id\",\n",
    "#                  \"data_source_label\",\n",
    "#                  \"metric_field\",\n",
    "#                  }\n",
    "# query_metric_cache_batch(pre_field_set)\n"
   ],
   "id": "e159af8162de629",
   "outputs": [],
   "execution_count": null
  },
  {
   "metadata": {
    "ExecuteTime": {
     "end_time": "2024-10-16T08:55:47.945888Z",
     "start_time": "2024-10-16T08:55:47.850888Z"
    }
   },
   "cell_type": "code",
   "source": [
    "# 测试使用pandas 进行过滤的数据与实际情况是否一致\n",
    "\n",
    "pre_field_set = {\"id\",\n",
    "                 \"result_table_id\",\n",
    "                 \"data_source_label\",\n",
    "                 \"metric_field\",\n",
    "                 }\n",
    "\n",
    "if __name__ == '__main__':\n",
    "    # 循环获取并过滤数据    \n",
    "    result_loop = query_metric_cache_loop(pre_field_set)\n",
    "    # 批量获取数据，并使用pandas 进行过滤\n",
    "    result_batch = query_metric_cache_batch(pre_field_set)\n",
    "    print(\"两查询结果是否一致：\", result_loop == result_batch)\n",
    "    print(result_loop[0:10], len(result_loop))\n",
    "    print()\n",
    "    print(result_batch[0:20], len(result_batch))\n"
   ],
   "id": "e6885ec9d23d89a0",
   "outputs": [
    {
     "name": "stdout",
     "output_type": "stream",
     "text": [
      "908\n",
      "量查询结果是否一致： True\n",
      "[('124', 44387001, 'bk_monitor', 'strategy'), ('124', 44387001, 'bk_monitor', 'strategy'), ('125', 44387002, 'bk_monitor', 'strategy'), ('125', 44387002, 'bk_monitor', 'strategy'), ('128', 44387003, 'bk_monitor', 'strategy'), ('128', 44387003, 'bk_monitor', 'strategy'), ('129', 44387004, 'bk_monitor', 'strategy'), ('129', 44387004, 'bk_monitor', 'strategy'), ('135', 85, 'bk_monitor', 'strategy'), ('135', 85, 'bk_monitor', 'strategy')] 908\n",
      "\n",
      "[('124', 44387001, 'bk_monitor', 'strategy'), ('124', 44387001, 'bk_monitor', 'strategy'), ('125', 44387002, 'bk_monitor', 'strategy'), ('125', 44387002, 'bk_monitor', 'strategy'), ('128', 44387003, 'bk_monitor', 'strategy'), ('128', 44387003, 'bk_monitor', 'strategy'), ('129', 44387004, 'bk_monitor', 'strategy'), ('129', 44387004, 'bk_monitor', 'strategy'), ('135', 85, 'bk_monitor', 'strategy'), ('135', 85, 'bk_monitor', 'strategy'), ('135', 85, 'bk_monitor', 'strategy'), ('135', 85, 'bk_monitor', 'strategy'), ('136', 44387005, 'bk_monitor', 'strategy'), ('136', 44387005, 'bk_monitor', 'strategy'), ('137', 44387006, 'bk_monitor', 'strategy'), ('137', 44387006, 'bk_monitor', 'strategy'), ('141', 44387007, 'bk_monitor', 'strategy'), ('141', 44387007, 'bk_monitor', 'strategy'), ('142', 44387008, 'bk_monitor', 'strategy'), ('142', 44387008, 'bk_monitor', 'strategy')] 908\n"
     ]
    }
   ],
   "execution_count": 142
  },
  {
   "metadata": {},
   "cell_type": "code",
   "source": [
    "# 断点测试generate_recommended_metric_panels 方法\n",
    "from fta_web.alert.resources import MetricRecommendationResource\n",
    "from bkmonitor.aiops.alert.utils import RecommendMetricManager\n",
    "\n",
    "params = [\n",
    "    {'data_source_label': 'bk_monitor', 'result_table_id': 'strategy', 'data_type_label': 'alert', 'bk_biz_id': 17},\n",
    "    {'data_source_label': 'bk_monitor', 'data_type_label': 'time_series'}\n",
    "]\n",
    "params = iter(params)\n",
    "\n",
    "RecommendMetricManager(1, True).generate_recommended_metric_panels(1, {}, {})"
   ],
   "id": "a25bfc8f0cf8c61e",
   "outputs": [],
   "execution_count": null
  }
 ],
 "metadata": {
  "kernelspec": {
   "display_name": "Python 3",
   "language": "python",
   "name": "python3"
  },
  "language_info": {
   "codemirror_mode": {
    "name": "ipython",
    "version": 2
   },
   "file_extension": ".py",
   "mimetype": "text/x-python",
   "name": "python",
   "nbconvert_exporter": "python",
   "pygments_lexer": "ipython2",
   "version": "2.7.6"
  }
 },
 "nbformat": 4,
 "nbformat_minor": 5
}
