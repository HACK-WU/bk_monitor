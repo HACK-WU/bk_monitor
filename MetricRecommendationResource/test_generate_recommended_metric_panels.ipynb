{
 "cells": [
  {
   "cell_type": "code",
   "id": "initial_id",
   "metadata": {
    "collapsed": true
   },
   "source": [
    "import sys\n",
    "\n",
    "sys.path.append('D:\\PythonProjects\\\\bk-monitor\\\\venv2\\share\\scripts')\n",
    "import hello"
   ],
   "outputs": [],
   "execution_count": null
  },
  {
   "metadata": {
    "ExecuteTime": {
     "end_time": "2024-10-15T08:44:54.928429Z",
     "start_time": "2024-10-15T08:44:54.915397Z"
    }
   },
   "cell_type": "code",
   "source": [
    "from bkmonitor.models.metric_list_cache import MetricListCache\n",
    "\n",
    "groups = [\n",
    "    # {\"data_source_label\", \"result_table_id\"},\n",
    "    # {\"data_source_label\", \"result_table_id\", \"bk_biz_id\"},\n",
    "    {\"data_source_label\", \"result_table_id\", \"bk_biz_id\", \"data_type_label\"},\n",
    "]\n",
    "# 用于保存需要查询的参数\n",
    "param_dics_list = []\n",
    "\n",
    "for item in groups:\n",
    "    result = MetricListCache.objects.all().values(*item).distinct()[0:10000]\n",
    "    param_dics_list.append(list(result))"
   ],
   "id": "3b9c363dc24523fc",
   "outputs": [],
   "execution_count": 2
  },
  {
   "metadata": {
    "ExecuteTime": {
     "end_time": "2024-10-15T08:44:54.944424Z",
     "start_time": "2024-10-15T08:44:54.930427Z"
    }
   },
   "cell_type": "code",
   "source": [
    "def query_metric_cache_loop(pre_field_set):\n",
    "    result = []\n",
    "    for param_dics in param_dics_list:\n",
    "        for metric_info in param_dics:\n",
    "            query_set = MetricListCache.objects.filter(**metric_info).order_by(\"id\").values(*pre_field_set)\n",
    "            for item in query_set:\n",
    "                result.append(item)\n",
    "    result.sort()\n",
    "    return result\n",
    "\n",
    "# query_metric_cache_loop()\n",
    "\n",
    "\n"
   ],
   "id": "e3cf7415a647a18b",
   "outputs": [],
   "execution_count": 3
  },
  {
   "metadata": {
    "ExecuteTime": {
     "end_time": "2024-10-15T08:44:55.022541Z",
     "start_time": "2024-10-15T08:44:54.945395Z"
    }
   },
   "cell_type": "code",
   "source": [
    "from functools import reduce\n",
    "from itertools import count\n",
    "from box import Box\n",
    "from pandas import DataFrame\n",
    "from collections import defaultdict\n",
    "\n",
    "\n",
    "def query_metric_cache_batch(pre_field_set):\n",
    "    # 过滤条件字典\n",
    "    filter_conditions = defaultdict(list)\n",
    "    metric_info_recommends = []\n",
    "\n",
    "    field_set = pre_field_set.copy()\n",
    "\n",
    "    for param_dics in param_dics_list:\n",
    "        for metric_info in param_dics:\n",
    "            for key, value in metric_info.items():\n",
    "                filter_conditions[key + \"__in\"].append(value)\n",
    "\n",
    "            metric_info_recommends.append(metric_info)\n",
    "            # 更新查询需要显示的字段集合\n",
    "            field_set.update(set(metric_info.keys()))\n",
    "\n",
    "    # 批量获取所有需要查询的指标\n",
    "    metric_data = MetricListCache.objects.filter(**filter_conditions).order_by(\"id\").values(*field_set)\n",
    "\n",
    "    df = DataFrame(metric_data)\n",
    "\n",
    "    result = []\n",
    "\n",
    "    def generate_conditions(x, y):\n",
    "        \"\"\"\n",
    "        用于构建符合DataFrame所要求格式的过滤条件\n",
    "        \"\"\"\n",
    "        if not isinstance(x, tuple):\n",
    "            return x & (df[str(y[0])] == y[1])\n",
    "        return (df[str(x[0])] == x[1]) & (df[str(y[0])] == y[1])\n",
    "\n",
    "    for metric_info in metric_info_recommends:\n",
    "        condition = reduce(generate_conditions, metric_info.items())\n",
    "        metric = df[condition].to_dict()\n",
    "        if not metric.get(\"id\"):\n",
    "            # 没有获取到目标数据，跳过\n",
    "            continue\n",
    "\n",
    "        # 获取到一个随机的key\n",
    "        random_key = list(metric.keys())[0]\n",
    "        # 事先创建好一个元素为空字典的列表\n",
    "        current_res = [{} for _ in range(len(metric.get(random_key)))]\n",
    "        index = count()\n",
    "        for key, value_dic in metric.items():\n",
    "            for item in value_dic.values():\n",
    "                current_res[next(index)][key] = item\n",
    "            index = count()\n",
    "        result.extend(current_res)\n",
    "\n",
    "    result.sort()\n",
    "    return result\n",
    "\n",
    "# query_metric_cache_batch(pre_field_set)\n"
   ],
   "id": "e159af8162de629",
   "outputs": [],
   "execution_count": 4
  },
  {
   "metadata": {},
   "cell_type": "code",
   "source": [
    "# 测试使用pandas 进行过滤的数据与实际情况是否一致\n",
    "\n",
    "pre_field_set = {\"id\",\n",
    "                 \"result_table_id\",\n",
    "                 \"data_source_label\",\n",
    "                 \"metric_field\",\n",
    "                 }\n",
    "\n",
    "if __name__ == '__main__':\n",
    "    # 循环获取并过滤数据    \n",
    "    result_loop = query_metric_cache_loop(pre_field_set)\n",
    "    # 只保存id\n",
    "    result_loop = list(map(lambda x: x[\"id\"], result_loop))\n",
    "    # 批量获取数据，并使用pandas 进行过滤\n",
    "    result_batch = query_metric_cache_batch(pre_field_set)\n",
    "    result_batch = list(map(lambda x: x[\"id\"], result_batch))\n",
    "    print(\"量查询结果是否一致：\", result_loop == result_batch)\n",
    "    print(result_loop[0:10], len(result_loop))\n",
    "    print()\n",
    "    print(result_batch[0:10], len(result_batch))\n"
   ],
   "id": "e6885ec9d23d89a0",
   "outputs": [],
   "execution_count": null
  },
  {
   "metadata": {},
   "cell_type": "code",
   "outputs": [],
   "execution_count": null,
   "source": [
    "# 断点测试generate_recommended_metric_panels 方法\n",
    "from fta_web.alert.resources import MetricRecommendationResource\n",
    "from bkmonitor.aiops.alert.utils import RecommendMetricManager\n",
    "\n",
    "\n",
    "params = [\n",
    "    {'data_source_label': 'bk_monitor', 'result_table_id': 'strategy', 'data_type_label': 'alert', 'bk_biz_id': 17},\n",
    "    {'data_source_label': 'bk_monitor', 'result_table_id': 'pingserver.base', 'data_type_label': 'time_series',\n",
    "     'bk_biz_id': 0}\n",
    "]\n",
    "params = iter(params)\n",
    "\n",
    "RecommendMetricManager(1, True).generate_recommended_metric_panels(1, {}, {})"
   ],
   "id": "a25bfc8f0cf8c61e"
  }
 ],
 "metadata": {
  "kernelspec": {
   "display_name": "Python 3",
   "language": "python",
   "name": "python3"
  },
  "language_info": {
   "codemirror_mode": {
    "name": "ipython",
    "version": 2
   },
   "file_extension": ".py",
   "mimetype": "text/x-python",
   "name": "python",
   "nbconvert_exporter": "python",
   "pygments_lexer": "ipython2",
   "version": "2.7.6"
  }
 },
 "nbformat": 4,
 "nbformat_minor": 5
}
