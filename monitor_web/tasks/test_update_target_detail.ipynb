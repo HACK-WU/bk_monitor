{
 "cells": [
  {
   "cell_type": "code",
   "id": "initial_id",
   "metadata": {
    "collapsed": true,
    "ExecuteTime": {
     "end_time": "2024-10-23T07:46:12.906804Z",
     "start_time": "2024-10-23T07:46:08.107385Z"
    }
   },
   "source": [
    "import sys\n",
    "\n",
    "sys.path.append('D:\\PythonProjects\\\\bk-monitor\\\\venv2\\share\\scripts')\n",
    "import hello\n",
    "from django.conf import settings\n",
    "from bkmonitor.models import StrategyModel, ItemModel\n",
    "from core.drf_resource import api, resource\n",
    "import time\n",
    "\n",
    "settings.ENABLED_TARGET_CACHE_BK_BIZ_IDS = [2] * 100"
   ],
   "outputs": [
    {
     "name": "stderr",
     "output_type": "stream",
     "text": [
      "当前运行环境缺少部分需要的环境变量，可能导致项目运行报错，请确认以下环境变量已经配置并赋值: BK_PAAS2_URL\n",
      "注意，当前版本为社区版环境，请确认 BKPAAS_MAJOR_VERSION 已经配置并正确赋值\n"
     ]
    }
   ],
   "execution_count": 1
  },
  {
   "metadata": {
    "ExecuteTime": {
     "end_time": "2024-10-23T07:46:59.919290Z",
     "start_time": "2024-10-23T07:46:18.904470Z"
    }
   },
   "cell_type": "code",
   "source": [
    "def update_target_detail():\n",
    "    \"\"\"\n",
    "    对启用了缓存的业务ID，更新监控目标详情缓存\n",
    "    \"\"\"\n",
    "    for bk_biz_id in settings.ENABLED_TARGET_CACHE_BK_BIZ_IDS:\n",
    "        strategy_ids = StrategyModel.objects.filter(bk_biz_id=bk_biz_id).values_list(\"id\", flat=True)\n",
    "        items = ItemModel.objects.filter(strategy_id__in=strategy_ids).only(\"strategy_id\", \"target\")\n",
    "        mapping = {item.strategy_id: (bk_biz_id, item.target) for item in items}\n",
    "        resource.strategies.get_target_detail_with_cache.set_mapping(mapping)\n",
    "        for item in items:\n",
    "            try:\n",
    "                resource.strategies.get_target_detail_with_cache.request.refresh({\"strategy_id\": item.strategy_id})\n",
    "            except Exception as e:\n",
    "                # logger.exception(f\"Update target detail cache failed for strategy id [{item.strategy_id}]: {e}\")\n",
    "                print(f\"Update target detail cache failed for strategy id [{item.strategy_id}]: {e}\")\n",
    "\n",
    "old = time.time()\n",
    "update_target_detail()\n",
    "print(f\"Update target detail cache took {time.time() - old}\")"
   ],
   "id": "80c2abe84711f5db",
   "outputs": [],
   "execution_count": 2
  },
  {
   "metadata": {
    "ExecuteTime": {
     "end_time": "2024-10-23T07:51:32.435244Z",
     "start_time": "2024-10-23T07:51:26.083019Z"
    }
   },
   "cell_type": "code",
   "source": [
    "from concurrent.futures import ThreadPoolExecutor\n",
    "import traceback\n",
    "\n",
    "\n",
    "def update_target_detail():\n",
    "    \"\"\"\n",
    "    对启用了缓存的业务ID，更新监控目标详情缓存\n",
    "    \"\"\"\n",
    "\n",
    "    def inner(bk_biz_id):\n",
    "        strategy_ids = StrategyModel.objects.filter(bk_biz_id=bk_biz_id).values_list(\"id\", flat=True)\n",
    "        items = ItemModel.objects.filter(strategy_id__in=strategy_ids).only(\"strategy_id\", \"target\")\n",
    "        resource.strategies.get_target_detail_with_cache.set_mapping({item.strategy_id: (bk_biz_id, item.target)\n",
    "                                                                      for item in items})\n",
    "        for item in items:\n",
    "            try:\n",
    "                resource.strategies.get_target_detail_with_cache.request.refresh({\"strategy_id\": item.strategy_id})\n",
    "            except Exception as e:\n",
    "                # logger.exception(f\"Update target detail cache failed for strategy id [{item.strategy_id}]: {e}\")\n",
    "                traceback.print_exc()\n",
    "                print(f\"Update target detail cache failed for strategy id [{item.strategy_id}]: {e}\")\n",
    "\n",
    "    with ThreadPoolExecutor() as executor:\n",
    "\n",
    "        for bk_biz_id in settings.ENABLED_TARGET_CACHE_BK_BIZ_IDS:\n",
    "            executor.submit(inner, bk_biz_id)\n",
    "\n",
    "old = time.time()\n",
    "update_target_detail()\n",
    "print(f\"Update target detail cache took {time.time() - old}\")"
   ],
   "id": "c6b13dbe32580538",
   "outputs": [
    {
     "name": "stdout",
     "output_type": "stream",
     "text": [
      "Update target detail cache took 6.334095478057861\n"
     ]
    }
   ],
   "execution_count": 9
  },
  {
   "metadata": {},
   "cell_type": "code",
   "outputs": [],
   "execution_count": null,
   "source": "",
   "id": "78094058e7519a88"
  }
 ],
 "metadata": {
  "kernelspec": {
   "display_name": "Python 3",
   "language": "python",
   "name": "python3"
  },
  "language_info": {
   "codemirror_mode": {
    "name": "ipython",
    "version": 2
   },
   "file_extension": ".py",
   "mimetype": "text/x-python",
   "name": "python",
   "nbconvert_exporter": "python",
   "pygments_lexer": "ipython2",
   "version": "2.7.6"
  }
 },
 "nbformat": 4,
 "nbformat_minor": 5
}
