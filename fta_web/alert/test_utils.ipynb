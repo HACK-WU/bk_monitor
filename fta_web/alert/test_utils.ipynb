{
 "cells": [
  {
   "metadata": {},
   "cell_type": "code",
   "source": [
    "import sys\n",
    "\n",
    "sys.path.append('D:\\PythonProjects\\\\bk-monitor\\\\venv2\\share\\scripts')\n",
    "import hello\n",
    "from fta_web.alert.utils import process_stage_string\n",
    "\n",
    "queries = [\n",
    "    '处理阶段 : 已通知',\n",
    "    '处理阶段 : 已确认 AND 状态 : 未恢复',\n",
    "    '((处理阶段 : 已通知) AND 状态 : 未恢复)',\n",
    "    '处理阶段 : 已通知 OR 状态 : 未恢复',\n",
    "    'stage : 已通知 OR 状态 : 未恢复',\n",
    "    '状态 : 未恢复 OR -处理阶段 : 已通知',\n",
    "    '-处理阶段 : 已通知',\n",
    "    'NOT 处理阶段 : 已通知',\n",
    "    '处理阶段 : 已通知 AND 告警名称 : \"VMStorage内存使用率\" OR 状态 : 未恢复',\n",
    "    '处理阶段 : 已通知 AND 告警名称 : \"VMStorage内存使用率\" OR 状态 : 未恢复 AND 处理阶段 : 已确认',\n",
    "    '指标ID : \"bk_monitor..process_resident_memory_anon_bytes\" ADN (告警名称 : \"VMStorage内存使用率\")',\n",
    "    '(((not处理阶段 : 已通知 )) OR 告警名称 : \"cmdb的日志包含MUST_SEND_ALARM\") AND -指标ID : \"bk_log_search.index_set.53\"',\n",
    "    '(((-处理阶段 : 已通知 )) AND 处理阶段 : 已流控) AND -指标ID : \"bk_log_search.index_set.53\"',\n",
    "    '(((-处理阶段 : 已通知 )) OR  not处理阶段 : 已屏蔽) AND -指标ID : \"bk_log_search.index_set.53\" AND not处理阶段 : 已流控',\n",
    "    '(((状态 : 已恢复 ) AND 告警名称 : \"磁盘I/O使用率\") OR  -目标IP : \"127.0.0.1\") OR 处理阶段 : 已通知',\n",
    "    '((((-处理阶段 : 已通知 )) OR  not处理阶段 : 已屏蔽) AND -指标ID : \"bk_log_search.index_set.53\") AND not处理阶段 : 已流控',\n",
    "    'stage : 已通知 AND 告警名称 : \"VMStorage内存使用率\" OR 状态 : 未恢复',\n",
    "    'stage : 已通知 AND 告警名称 : \"VMStorage内存使用率\" OR 状态 : 未恢复 AND 处理阶段 : 已确认',\n",
    "    '指标ID : \"bk_monitor..process_resident_memory_anon_bytes\" OR  (告警名称 : \"VMStorage内存使用率\")',\n",
    "    '(((not处理阶段 : 已通知 )) OR 告警名称 : \"cmdb的日志包含MUST_SEND_ALARM\") AND -指标ID : \"bk_log_search.index_set.53\"',\n",
    "    '(((-stage: 已通知 )) AND 处理阶段 : 已流控) AND -指标ID : \"bk_log_search.index_set.53\"',\n",
    "    '(((- stage  : 已通知 )) OR  not处理阶段 : 已屏蔽) AND -指标ID : \"bk_log_search.index_set.53\" AND notstage : 已流控',\n",
    "    '(((-stage : 已通知 )) OR  not处理阶段 : 已屏蔽) AND -指标ID : \"bk_log_search.index_set.53\" AND not stage : 已流控',\n",
    "    '(((状态 : 已恢复 ) AND 告警名称 : \"磁盘I/O使用率\") OR  -目标IP : \"127.0.0.1\") OR stage : 已通知',\n",
    "    '((((-stage : 已通知 )) OR  not处理阶段 : 已屏蔽) AND -指标ID : \"bk_log_search.index_set.53\") AND not处理阶段 : 已流控'\n",
    "]\n",
    "\n",
    "for query_string in queries:\n",
    "    result = process_stage_string(query_string)\n",
    "    print(query_string)\n",
    "    print(result)\n",
    "    print()\n"
   ],
   "id": "ce6bb359211c2b4c",
   "outputs": [],
   "execution_count": null
  }
 ],
 "metadata": {
  "kernelspec": {
   "display_name": "Python 3",
   "language": "python",
   "name": "python3"
  },
  "language_info": {
   "codemirror_mode": {
    "name": "ipython",
    "version": 2
   },
   "file_extension": ".py",
   "mimetype": "text/x-python",
   "name": "python",
   "nbconvert_exporter": "python",
   "pygments_lexer": "ipython2",
   "version": "2.7.6"
  }
 },
 "nbformat": 4,
 "nbformat_minor": 5
}
