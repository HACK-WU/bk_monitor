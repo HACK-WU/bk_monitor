{
 "cells": [
  {
   "cell_type": "code",
   "id": "initial_id",
   "metadata": {
    "collapsed": true,
    "ExecuteTime": {
     "end_time": "2024-12-23T08:17:15.563541Z",
     "start_time": "2024-12-23T08:17:10.909636Z"
    }
   },
   "source": [
    "import sys\n",
    "\n",
    "sys.path.append('D:\\PythonProjects\\\\bk-monitor\\\\venv2\\share\\scripts')\n",
    "import hello"
   ],
   "outputs": [
    {
     "name": "stderr",
     "output_type": "stream",
     "text": [
      "当前运行环境缺少部分需要的环境变量，可能导致项目运行报错，请确认以下环境变量已经配置并赋值: BK_PAAS2_URL\n",
      "注意，当前版本为社区版环境，请确认 BKPAAS_MAJOR_VERSION 已经配置并正确赋值\n"
     ]
    }
   ],
   "execution_count": 1
  },
  {
   "metadata": {},
   "cell_type": "code",
   "source": [
    "\"\"\"\n",
    "新增策略排查脚本，排查策略关联的通知组在业务下不存在的策略。(通知组就是告警组)\n",
    "\n",
    "遍历全部策略， 查看策略配置的通知组id，是否在当前业务下存在。 \n",
    "    -如果查询不到， 则去掉业务过滤条件查询， \n",
    "    -如果存在，则将通知组的名称作为查询条件，在当前业务下查询。（查询当前业务下相同名称的告警组）\n",
    "    如果有记录， 则替换为当前查询到的通知组id。并打印。\n",
    "    \n",
    "替换功能可以通过一个配置项（是否预览）开启。\n",
    "开启预览，则仅打印信息不替换。 不开启预览，则替换+打印信息。\n",
    "\n",
    "策略id， 策略名称， 业务id， 关联的通知组id+对应的业务id，本业务下相同名称的通知组id \n",
    "\n",
    "关联的通知组，需要的是非当前业务下的告警组。\n",
    "\"\"\""
   ],
   "id": "a71fa243769acca8",
   "outputs": [],
   "execution_count": null
  },
  {
   "metadata": {},
   "cell_type": "code",
   "source": [
    "from bkmonitor.models.strategy import StrategyModel, UserGroup\n",
    "from bkmonitor.models.fta.action import StrategyActionConfigRelation\n",
    "from collections import defaultdict\n",
    "from pprint import pprint\n",
    "\n",
    "\n",
    "def create_user_group():\n",
    "    \"\"\"\n",
    "    创建告警组\n",
    "    \"\"\"\n",
    "    # 清空数据\n",
    "    UserGroup.objects.all().delete()\n",
    "    user_group_ids = []\n",
    "    for i in range(1, 6):\n",
    "        instance = UserGroup.objects.create(name=f\"test_user_group_{i}\", bk_biz_id=2, desc=f\"test_user_group_{i}_desc\")\n",
    "        user_group_ids.append(instance.id)\n",
    "\n",
    "    # 创建具有相同名称的告警组\n",
    "    for i in range(1, 6):\n",
    "        instance = UserGroup.objects.create(name=f\"test_user_group_{i}\", bk_biz_id=2, desc=f\"test_user_group_{i}_desc\")\n",
    "        user_group_ids.append(instance.id)\n",
    "\n",
    "    # 创建非当前业务下的告警组\n",
    "    for i in range(1, 6):\n",
    "        instance = UserGroup.objects.create(name=f\"test_user_group_{i}\", bk_biz_id=6, desc=f\"test_user_group_{i}_desc\")\n",
    "        user_group_ids.append(instance.id)\n",
    "\n",
    "    for i in range(1, 6):\n",
    "        instance = UserGroup.objects.create(name=f\"test_user_group_{i}\", bk_biz_id=5, desc=f\"test_user_group_{i}_desc\")\n",
    "        user_group_ids.append(instance.id)\n",
    "\n",
    "    return user_group_ids\n",
    "\n",
    "\n",
    "def create_strategy():\n",
    "    \"\"\"\n",
    "    创建策略\n",
    "    \"\"\"\n",
    "    # 清空数据  \n",
    "    StrategyModel.objects.all().delete()\n",
    "\n",
    "    strategy_ids = []\n",
    "    for i in range(1, 21):\n",
    "        instance = StrategyModel.objects.create(name=f\"test_stragety_{i}\", bk_biz_id=2)\n",
    "        strategy_ids.append(instance.id)\n",
    "    return strategy_ids\n",
    "\n",
    "\n",
    "# 创建告警组\n",
    "def create_strategy_action_config():\n",
    "    StrategyActionConfigRelation.objects.all().delete()\n",
    "\n",
    "    # 创建告警组\n",
    "    user_group_ids = create_user_group()\n",
    "    # 创建新的策略\n",
    "    stragety_ids = create_strategy()\n",
    "    for i in range(len(stragety_ids)):\n",
    "        StrategyActionConfigRelation.objects.create(config_id=0, strategy_id=stragety_ids[i],\n",
    "                                                    user_groups=user_group_ids[i:i + 2])\n",
    "\n",
    "    # 打印关联信息\n",
    "    query_set = StrategyActionConfigRelation.objects.all().values(\"id\", \"strategy_id\", \"user_groups\")\n",
    "    for item in query_set:\n",
    "        user_groups = UserGroup.objects.filter(id__in=item[\"user_groups\"]).values(\"id\", \"name\", \"bk_biz_id\")\n",
    "        strategy = StrategyModel.objects.get(id=item[\"strategy_id\"])\n",
    "        item[\"user_groups_info\"] = user_groups\n",
    "        item[\"strategy_name\"] = strategy.name\n",
    "        pprint(item)\n",
    "\n",
    "\n",
    "def show_strategy_action_config():\n",
    "    # 打印关联信息\n",
    "    query_set = StrategyActionConfigRelation.objects.all().values(\"id\", \"strategy_id\", \"user_groups\")\n",
    "    for item in query_set:\n",
    "        user_groups = UserGroup.objects.filter(id__in=item[\"user_groups\"]).values(\"id\", \"name\", \"bk_biz_id\")\n",
    "        strategy = StrategyModel.objects.get(id=item[\"strategy_id\"])\n",
    "        item[\"user_groups_info\"] = user_groups\n",
    "        item[\"strategy_name\"] = strategy.name\n",
    "        pprint(item)\n",
    "\n",
    "\n",
    "# show_strategy_action_config()\n",
    "create_strategy_action_config()"
   ],
   "id": "edb2e8bb2905b81c",
   "outputs": [],
   "execution_count": null
  },
  {
   "metadata": {
    "ExecuteTime": {
     "end_time": "2024-12-23T08:23:36.946386Z",
     "start_time": "2024-12-23T08:23:36.915976Z"
    }
   },
   "cell_type": "code",
   "source": [
    "from bkmonitor.management.commands.run_cmd import parse_usergroup_not_under_business \n",
    "\n",
    "parse_usergroup_not_under_business(True)"
   ],
   "id": "8181bbb6940b1e6d",
   "outputs": [
    {
     "name": "stdout",
     "output_type": "stream",
     "text": [
      "策略id，策略名称，业务id，关联的非本业务的告警组信息，本业务下相同名称的告警组ID\n",
      "1744,test_stragety_10,2,{'id': 999, 'name': 'test_user_group_1', 'bk_biz_id': 6},[994, 989]\n",
      "1745,test_stragety_11,2,{'id': 999, 'name': 'test_user_group_1', 'bk_biz_id': 6},[994, 989]\n",
      "1745,test_stragety_11,2,{'id': 1000, 'name': 'test_user_group_2', 'bk_biz_id': 6},[995, 990]\n",
      "1746,test_stragety_12,2,{'id': 1000, 'name': 'test_user_group_2', 'bk_biz_id': 6},[995, 990]\n",
      "1746,test_stragety_12,2,{'id': 1001, 'name': 'test_user_group_3', 'bk_biz_id': 6},[996, 991]\n",
      "1747,test_stragety_13,2,{'id': 1001, 'name': 'test_user_group_3', 'bk_biz_id': 6},[996, 991]\n",
      "1747,test_stragety_13,2,{'id': 1002, 'name': 'test_user_group_4', 'bk_biz_id': 6},[997, 992]\n",
      "1748,test_stragety_14,2,{'id': 1002, 'name': 'test_user_group_4', 'bk_biz_id': 6},[997, 992]\n",
      "1748,test_stragety_14,2,{'id': 1003, 'name': 'test_user_group_5', 'bk_biz_id': 6},[998, 993]\n",
      "1749,test_stragety_15,2,{'id': 1003, 'name': 'test_user_group_5', 'bk_biz_id': 6},[998, 993]\n",
      "1749,test_stragety_15,2,{'id': 1004, 'name': 'test_user_group_1', 'bk_biz_id': 5},[994, 989]\n",
      "1750,test_stragety_16,2,{'id': 1004, 'name': 'test_user_group_1', 'bk_biz_id': 5},[994, 989]\n",
      "1750,test_stragety_16,2,{'id': 1005, 'name': 'test_user_group_2', 'bk_biz_id': 5},[995, 990]\n",
      "1751,test_stragety_17,2,{'id': 1005, 'name': 'test_user_group_2', 'bk_biz_id': 5},[995, 990]\n",
      "1751,test_stragety_17,2,{'id': 1006, 'name': 'test_user_group_3', 'bk_biz_id': 5},[996, 991]\n",
      "1752,test_stragety_18,2,{'id': 1006, 'name': 'test_user_group_3', 'bk_biz_id': 5},[996, 991]\n",
      "1752,test_stragety_18,2,{'id': 1007, 'name': 'test_user_group_4', 'bk_biz_id': 5},[997, 992]\n",
      "1753,test_stragety_19,2,{'id': 1007, 'name': 'test_user_group_4', 'bk_biz_id': 5},[997, 992]\n",
      "1753,test_stragety_19,2,{'id': 1008, 'name': 'test_user_group_5', 'bk_biz_id': 5},[998, 993]\n",
      "1754,test_stragety_20,2,{'id': 1008, 'name': 'test_user_group_5', 'bk_biz_id': 5},[998, 993]\n"
     ]
    }
   ],
   "execution_count": 11
  },
  {
   "metadata": {
    "ExecuteTime": {
     "end_time": "2024-12-23T08:23:39.761732Z",
     "start_time": "2024-12-23T08:23:39.713402Z"
    }
   },
   "cell_type": "code",
   "source": "parse_usergroup_not_under_business(False)",
   "id": "f4fa4c356d4c02fb",
   "outputs": [
    {
     "name": "stdout",
     "output_type": "stream",
     "text": [
      "策略id，策略名称，业务id，替换后关联的告警组信息\n",
      "1744,test_stragety_10,2,{'id': 998, 'name': 'test_user_group_5', 'bk_biz_id': 2}\n",
      "1744,test_stragety_10,2,{'id': 994, 'name': 'test_user_group_1', 'bk_biz_id': 2}\n",
      "1744,test_stragety_10,2,{'id': 989, 'name': 'test_user_group_1', 'bk_biz_id': 2}\n",
      "1745,test_stragety_11,2,{'id': 994, 'name': 'test_user_group_1', 'bk_biz_id': 2}\n",
      "1745,test_stragety_11,2,{'id': 989, 'name': 'test_user_group_1', 'bk_biz_id': 2}\n",
      "1745,test_stragety_11,2,{'id': 995, 'name': 'test_user_group_2', 'bk_biz_id': 2}\n",
      "1745,test_stragety_11,2,{'id': 990, 'name': 'test_user_group_2', 'bk_biz_id': 2}\n",
      "1746,test_stragety_12,2,{'id': 995, 'name': 'test_user_group_2', 'bk_biz_id': 2}\n",
      "1746,test_stragety_12,2,{'id': 990, 'name': 'test_user_group_2', 'bk_biz_id': 2}\n",
      "1746,test_stragety_12,2,{'id': 996, 'name': 'test_user_group_3', 'bk_biz_id': 2}\n",
      "1746,test_stragety_12,2,{'id': 991, 'name': 'test_user_group_3', 'bk_biz_id': 2}\n",
      "1747,test_stragety_13,2,{'id': 996, 'name': 'test_user_group_3', 'bk_biz_id': 2}\n",
      "1747,test_stragety_13,2,{'id': 991, 'name': 'test_user_group_3', 'bk_biz_id': 2}\n",
      "1747,test_stragety_13,2,{'id': 997, 'name': 'test_user_group_4', 'bk_biz_id': 2}\n",
      "1747,test_stragety_13,2,{'id': 992, 'name': 'test_user_group_4', 'bk_biz_id': 2}\n",
      "1748,test_stragety_14,2,{'id': 997, 'name': 'test_user_group_4', 'bk_biz_id': 2}\n",
      "1748,test_stragety_14,2,{'id': 992, 'name': 'test_user_group_4', 'bk_biz_id': 2}\n",
      "1748,test_stragety_14,2,{'id': 998, 'name': 'test_user_group_5', 'bk_biz_id': 2}\n",
      "1748,test_stragety_14,2,{'id': 993, 'name': 'test_user_group_5', 'bk_biz_id': 2}\n",
      "1749,test_stragety_15,2,{'id': 998, 'name': 'test_user_group_5', 'bk_biz_id': 2}\n",
      "1749,test_stragety_15,2,{'id': 993, 'name': 'test_user_group_5', 'bk_biz_id': 2}\n",
      "1749,test_stragety_15,2,{'id': 994, 'name': 'test_user_group_1', 'bk_biz_id': 2}\n",
      "1749,test_stragety_15,2,{'id': 989, 'name': 'test_user_group_1', 'bk_biz_id': 2}\n",
      "1750,test_stragety_16,2,{'id': 994, 'name': 'test_user_group_1', 'bk_biz_id': 2}\n",
      "1750,test_stragety_16,2,{'id': 989, 'name': 'test_user_group_1', 'bk_biz_id': 2}\n",
      "1750,test_stragety_16,2,{'id': 995, 'name': 'test_user_group_2', 'bk_biz_id': 2}\n",
      "1750,test_stragety_16,2,{'id': 990, 'name': 'test_user_group_2', 'bk_biz_id': 2}\n",
      "1751,test_stragety_17,2,{'id': 995, 'name': 'test_user_group_2', 'bk_biz_id': 2}\n",
      "1751,test_stragety_17,2,{'id': 990, 'name': 'test_user_group_2', 'bk_biz_id': 2}\n",
      "1751,test_stragety_17,2,{'id': 996, 'name': 'test_user_group_3', 'bk_biz_id': 2}\n",
      "1751,test_stragety_17,2,{'id': 991, 'name': 'test_user_group_3', 'bk_biz_id': 2}\n",
      "1752,test_stragety_18,2,{'id': 996, 'name': 'test_user_group_3', 'bk_biz_id': 2}\n",
      "1752,test_stragety_18,2,{'id': 991, 'name': 'test_user_group_3', 'bk_biz_id': 2}\n",
      "1752,test_stragety_18,2,{'id': 997, 'name': 'test_user_group_4', 'bk_biz_id': 2}\n",
      "1752,test_stragety_18,2,{'id': 992, 'name': 'test_user_group_4', 'bk_biz_id': 2}\n",
      "1753,test_stragety_19,2,{'id': 997, 'name': 'test_user_group_4', 'bk_biz_id': 2}\n",
      "1753,test_stragety_19,2,{'id': 992, 'name': 'test_user_group_4', 'bk_biz_id': 2}\n",
      "1753,test_stragety_19,2,{'id': 998, 'name': 'test_user_group_5', 'bk_biz_id': 2}\n",
      "1753,test_stragety_19,2,{'id': 993, 'name': 'test_user_group_5', 'bk_biz_id': 2}\n",
      "1754,test_stragety_20,2,{'id': 998, 'name': 'test_user_group_5', 'bk_biz_id': 2}\n",
      "1754,test_stragety_20,2,{'id': 993, 'name': 'test_user_group_5', 'bk_biz_id': 2}\n"
     ]
    }
   ],
   "execution_count": 12
  },
  {
   "metadata": {},
   "cell_type": "code",
   "source": "show_strategy_action_config()",
   "id": "b3a59d9a42911efe",
   "outputs": [],
   "execution_count": null
  }
 ],
 "metadata": {
  "kernelspec": {
   "display_name": "Python 3",
   "language": "python",
   "name": "python3"
  },
  "language_info": {
   "codemirror_mode": {
    "name": "ipython",
    "version": 2
   },
   "file_extension": ".py",
   "mimetype": "text/x-python",
   "name": "python",
   "nbconvert_exporter": "python",
   "pygments_lexer": "ipython2",
   "version": "2.7.6"
  }
 },
 "nbformat": 4,
 "nbformat_minor": 5
}
